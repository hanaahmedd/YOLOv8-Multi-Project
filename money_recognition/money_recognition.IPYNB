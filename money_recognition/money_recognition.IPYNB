!pip install ultralytics
!pip install roboflow

from roboflow import Roboflow
rf = Roboflow(api_key="j0rIGhhBMhmWR9vJx5Rt")
project = rf.workspace("hana-omwd3").project("my_money_recognition-g0wjy")
version = project.version(1)
dataset = version.download("yolov8")

# import YOLO model
from ultralytics import YOLO

# Load a model
model = YOLO('/content/yolov8n.pt')
model.train(data='/content/my_money_recognition-1/data.yaml', epochs=50,imgsz=640,batch=10)
model.save("money_recognition.pt")
