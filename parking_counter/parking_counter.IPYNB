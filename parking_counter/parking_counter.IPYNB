!pip install ultralytics
!pip install roboflow

from roboflow import Roboflow
rf = Roboflow(api_key="j0rIGhhBMhmWR9vJx5Rt")
project = rf.workspace("hana-omwd3").project("parking_lot-xlhok")
version = project.version(2)
dataset = version.download("yolov8")

# import YOLO model
from ultralytics import YOLO

# Load a model
model = YOLO('/content/yolov8n.pt')
model.train(data='/content/parking_lot-2/data.yaml', epochs=100,imgsz=640,batch=8)
model.save("parking_counter.pt")
