!pip install ultralytics
!pip install roboflow

from roboflow import Roboflow
rf = Roboflow(api_key="j0rIGhhBMhmWR9vJx5Rt")
project = rf.workspace("hana-omwd3").project("license-plate-detection-gv3s3-1byyt")
version = project.version(1)
dataset = version.download("yolov8")

# import YOLO model
from ultralytics import YOLO

# Load a model
model = YOLO('/content/yolov8n.pt')
model.train(data='/content/License-plate-detection-1/data.yaml', epochs=50,imgsz=640,batch=10)
model.save("license_plate_detection.pt")
