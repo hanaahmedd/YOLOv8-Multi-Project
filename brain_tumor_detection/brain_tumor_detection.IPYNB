!pip install ultralytics
!pip install roboflow

from roboflow import Roboflow
rf = Roboflow(api_key="j0rIGhhBMhmWR9vJx5Rt")
project = rf.workspace("hana-omwd3").project("brain-tumor-segmentation-9sfqu-5d22d")
version = project.version(1)
dataset = version.download("yolov8")
from ultralytics import YOLO
model = YOLO("/content/yolov8n.pt")

model.train(data='/content/Brain-Tumor-Segmentation-1/data.yaml', epochs=100,imgsz=640,batch=8)
model.save("brain_tumor_segmentation.pt")
